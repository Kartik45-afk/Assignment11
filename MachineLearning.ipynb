{
  "nbformat": 4,
  "nbformat_minor": 0,
  "metadata": {
    "colab": {
      "provenance": []
    },
    "kernelspec": {
      "name": "python3",
      "display_name": "Python 3"
    },
    "language_info": {
      "name": "python"
    }
  },
  "cells": [
    {
      "cell_type": "markdown",
      "source": [
        "# Theoretical Questions\n"
      ],
      "metadata": {
        "id": "3z5jOSCC6iyJ"
      }
    },
    {
      "cell_type": "markdown",
      "source": [
        "#### #Question 1: Explain the differences between AI, ML, Deep Learning (DL), and Data Science (DS).\n",
        "##### #Ans.1. Artificial Intelligence (AI)\n",
        "* What it is: The widest area in computer science that deals with designing systems capable of acting smartly, almost like humans.\n",
        "* Purpose: To enable machines to perform activities that require intelligence such as reasoning, problem-solving, learning, and understanding.\n",
        "* Covers: Rule-based programs, robotics, computer vision, natural language processing (NLP), and also machine learning.\n",
        "* Examples: A chess program that defeats human players, or a virtual assistant that answers questions.\n",
        "\n",
        "2. Machine Learning (ML)\n",
        "* What it is: A branch within AI that focuses on creating algorithms which learn from experience (data) rather than being hard-coded.\n",
        "* Purpose: To make predictions or decisions using data-driven models.\n",
        "* Main Approaches:\n",
        "* Supervised Learning - Models trained with labeled data (like predicting house prices or classifying emails as spam).\n",
        "* Unsupervised Learning - Identifying hidden structures in unlabeled data (like grouping customers with similar behavior).\n",
        "* Reinforcement Learning - Improving performance through trial-and-error, guided by rewards (used in robotics and gaming).\n",
        "* Examples: Netflix suggesting shows, Gmail filtering junk mail.\n",
        "\n",
        "3. Deep Learning (DL)\n",
        "* What it is: A specialized part of machine learning that employs multi-layered artificial neural networks.\n",
        "* Purpose: To automatically discover patterns in very large and complex datasets, especially unstructured ones like images, audio, and text.\n",
        "* Strength: Removes the need for manual feature extraction since the system learns on its own.\n",
        "* Techniques: Convolutional Neural Networks (CNNs) for image analysis, Transformers for natural language tasks.\n",
        "* Examples: Voice assistants like Alexa, facial recognition, and the vision system in self-driving cars.\n",
        "\n",
        "4. Data Science (DS)\n",
        "* What it is: An interdisciplinary domain that blends statistics, computer science, and domain expertise to extract insights from raw data.\n",
        "* Purpose: To convert data into useful knowledge that guides decision-making and strategy.\n",
        "* Key Tools/Methods:\n",
        "*  Predictive models using AI/ML/DL\n",
        "* Statistical analysis and hypothesis testing\n",
        "* Visualization methods (charts, dashboards)\n",
        "* Tools like SQL, Spark, Python, R for handling big data\n",
        "* Examples: Predicting sales trends, understanding why customers leave a service, creating dashboards for business intelligence."
      ],
      "metadata": {
        "id": "88LCHMWC6tGy"
      }
    },
    {
      "cell_type": "markdown",
      "source": [
        "#### #Question 2: What are the types of machine learning? Describe each with one real-world example.\n",
        "##### #Ans.1. Supervised Learning\n",
        "* What it is: The algorithm is trained on labeled data, meaning the input data already has the correct output (answers).\n",
        "* How it works: The model learns the relationship between input and output so it can predict outcomes for new, unseen data.\n",
        "* Real-world Example:\n",
        "* Email Spam Detection - The model is trained with emails labeled as “spam” or “not spam”. Later, it can classify new incoming emails automatically.\n",
        "\n",
        "2. Unsupervised Learning\n",
        "* What it is: The algorithm works with unlabeled data, meaning no predefined answers are given.\n",
        "* How it works: It tries to find hidden patterns, structures, or groupings within the data.\n",
        "* Real-world Example:\n",
        "* Customer Segmentation - E-commerce platforms group customers into clusters (e.g., budget buyers, premium buyers) based on browsing and purchase behavior, even without labels.\n",
        "\n",
        "3. Reinforcement Learning\n",
        "* What it is: The algorithm learns by interacting with an environment, receiving feedback in the form of rewards or penalties.\n",
        "* How it works: The model improves its strategy over time by maximizing cumulative rewards.\n",
        "* Real-world Example:\n",
        "* Self-Driving Cars - The system learns to drive safely by receiving rewards for correct actions (staying in lane, stopping at signals) and penalties for mistakes (crashes, rule violations)."
      ],
      "metadata": {
        "id": "oXBYYn8l9Y2c"
      }
    },
    {
      "cell_type": "markdown",
      "source": [
        "#### #Question 3: Define overfitting, underfitting, and the bias-variance tradeoff in machine learning.\n",
        "##### #Ans.1. Overfitting\n",
        "* Definition: When a model learns too much from the training data, including noise and random fluctuations, instead of just the underlying patterns.\n",
        "* Effect: Performs very well on training data but poorly on new/unseen data (low generalization).\n",
        "* Example: A student memorizes answers word-for-word from a textbook. They do great on practice questions but fail when asked slightly different ones.\n",
        "\n",
        "2. Underfitting\n",
        "* Definition: When a model is too simple to capture the underlying structure of the data.\n",
        "* Effect: Performs poorly on both training and test data.\n",
        "* Example: A student barely studies and only knows the basics. They can't answer even practice questions properly, let alone the exam.\n",
        "\n",
        "3. Bias-Variance Tradeoff\n",
        "* Bias: Error due to overly simple assumptions in the model (leads to underfitting).\n",
        "* Variance: Error due to excessive complexity in the model (leads to overfitting).\n",
        "* Tradeoff:\n",
        "* High bias -> Model is too rigid and misses patterns (underfit).\n",
        "* High variance -> Model is too flexible and memorizes noise (overfit).\n",
        "* Goal: Find the right balance where the model generalizes well on unseen data."
      ],
      "metadata": {
        "id": "t-QxjvYXDIjY"
      }
    },
    {
      "cell_type": "markdown",
      "source": [
        "#### #Question 4: What are outliers in a dataset, and list three common techniques for handling them.\n",
        "##### #Ans.Outliers are data points that deviate significantly from the rest of the dataset. They are unusually high or low values compared to the majority of observations and can distort statistical analysis or machine learning models if not handled properly.\n",
        "\n",
        "Three common techniques for handling outliers:\n",
        "\n",
        "Removal (Deleting Outliers) - If the outlier is due to data entry error, noise, or is irrelevant, it can be removed.Example: Negative age value in a dataset.\n",
        "\n",
        "Transformation - Applying mathematical transformations (e.g., log, square root, z-score normalization) reduces the impact of outliers.\n",
        "Useful when the data is skewed.\n",
        "\n",
        "Capping/Imputation (Winsorizing) - Replace extreme values with a threshold (e.g., replace values above the 95th percentile with the 95th percentile value).Keeps the data but reduces the effect of outliers.\n",
        "\n",
        "Other methods include using robust models (like median instead of mean) and binning."
      ],
      "metadata": {
        "id": "daX1jFtgFU71"
      }
    },
    {
      "cell_type": "markdown",
      "source": [
        "#### #Question 5: Explain the process of handling missing values and mention one imputation technique for numerical and one for categorical data.\n",
        "##### #Ans.Handling missing values is an important step in data preprocessing because incomplete data can bias analysis and reduce model accuracy.\n",
        "Process of Handling Missing Values:\n",
        "1. Identify missing data -> Use functions like isnull( ) or info( ) in pandas.\n",
        "2. Analyze the pattern -> Check if values are Missing Completely at Random (MCAR), Missing at Random (MAR), or Not Missing at Random (NMAR).\n",
        "3. Decide a strategy:\\\n",
        "Remove rows/columns with too many missing values. Impute (fill in) missing values with statistical or model-based methods.\n",
        "\n",
        "Imputation Techniques:\n",
        "\n",
        "For Numerical Data -> Mean/Median Imputation\n",
        "* Replace missing values with the column mean (or median if skewed).\n",
        "\n",
        "For Categorical Data -> Mode Imputation\n",
        "* Replace missing values with the most frequent category.\n",
        "\n",
        "Example:\n",
        "1. Missing values in \"Age\" -> fill with median age.\n",
        "2. Missing values in \"Gender\" -> fill with most common gender."
      ],
      "metadata": {
        "id": "Uza1LWNCJC1X"
      }
    },
    {
      "cell_type": "markdown",
      "source": [
        "# Practical Questions\n"
      ],
      "metadata": {
        "id": "jjv7aZXraZU_"
      }
    },
    {
      "cell_type": "code",
      "source": [
        "# Question 6: Write a Python program that:\n",
        "# ● Creates a synthetic imbalanced dataset with make_classification() from\n",
        "# sklearn.datasets.\n",
        "# ● Prints the class distribution.\n",
        "# (Include your Python code and output in the code box below.)\n",
        "\n",
        "from sklearn.datasets import make_classification\n",
        "from collections import Counter\n",
        "\n",
        "# Create synthetic imbalanced dataset\n",
        "X, y = make_classification(n_samples=1000,       # total rows\n",
        "                           n_features=10,        # number of features\n",
        "                           n_informative=5,      # number of informative features\n",
        "                           n_redundant=2,        # number of redundant features\n",
        "                           n_classes=2,          # binary classification\n",
        "                           weights=[0.9, 0.1],   # imbalance ratio (90% vs 10%)\n",
        "                           random_state=42)\n",
        "\n",
        "# Print class distribution\n",
        "print(\"Class distribution:\", Counter(y))"
      ],
      "metadata": {
        "id": "TnSauyGYadSB",
        "colab": {
          "base_uri": "https://localhost:8080/"
        },
        "outputId": "0c9b50da-3815-48ec-db5c-e559952d071c"
      },
      "execution_count": 1,
      "outputs": [
        {
          "output_type": "stream",
          "name": "stdout",
          "text": [
            "Class distribution: Counter({np.int64(0): 896, np.int64(1): 104})\n"
          ]
        }
      ]
    },
    {
      "cell_type": "code",
      "source": [
        "# Question 7: Implement one-hot encoding using pandas for the following list of colors:\n",
        "# ['Red', 'Green', 'Blue', 'Green', 'Red']. Print the resulting dataframe.\n",
        "# (Include your Python code and output in the code box below.)\n",
        "\n",
        "import pandas as pd\n",
        "\n",
        "# Input list of colors\n",
        "colors = ['Red', 'Green', 'Blue', 'Green', 'Red']\n",
        "\n",
        "# One-hot encoding directly\n",
        "one_hot_encoded_df = pd.get_dummies(pd.DataFrame({'Color': colors}), columns=['Color'])\n",
        "\n",
        "# Print the resulting dataframe\n",
        "print(one_hot_encoded_df)"
      ],
      "metadata": {
        "colab": {
          "base_uri": "https://localhost:8080/"
        },
        "id": "badS8lAcbkk7",
        "outputId": "06ceb77a-5271-4045-be6e-9923c21dbe19"
      },
      "execution_count": 2,
      "outputs": [
        {
          "output_type": "stream",
          "name": "stdout",
          "text": [
            "   Color_Blue  Color_Green  Color_Red\n",
            "0       False        False       True\n",
            "1       False         True      False\n",
            "2        True        False      False\n",
            "3       False         True      False\n",
            "4       False        False       True\n"
          ]
        }
      ]
    },
    {
      "cell_type": "code",
      "source": [
        "# Question 8: Write a Python script to:\n",
        "# ● Generate 1000 samples from a normal distribution.\n",
        "# ● Introduce 50 random missing values.\n",
        "# ● Fill missing values with the column mean.\n",
        "# ● Plot a histogram before and after imputation.\n",
        "# (Include your Python code and output in the code box below.)\n",
        "\n",
        "import numpy as np\n",
        "import pandas as pd\n",
        "import matplotlib.pyplot as plt\n",
        "\n",
        "samples = np.random.normal(loc=0, scale=1, size=1000)\n",
        "dataset = pd.DataFrame({'numbers': samples})\n",
        "\n",
        "nan_indices = np.random.choice(dataset.index, size=50, replace=False)\n",
        "dataset.loc[nan_indices, 'numbers'] = np.nan\n",
        "\n",
        "plt.figure(figsize=(12, 5))\n",
        "plt.subplot(1, 2, 1)\n",
        "plt.hist(dataset['numbers'].dropna(), bins=30, color='yellow', edgecolor='black')\n",
        "plt.title('Before Imputation')\n",
        "plt.xlabel('Numbers')\n",
        "plt.ylabel('Count')\n",
        "plt.grid(alpha=0.3)\n",
        "\n",
        "column_mean = dataset['numbers'].mean(skipna=True)\n",
        "dataset_filled = dataset.copy().fillna(column_mean)\n",
        "\n",
        "plt.subplot(1, 2, 2)\n",
        "plt.hist(dataset_filled['numbers'], bins=30, color='red', edgecolor='black')\n",
        "plt.title('After Imputation')\n",
        "plt.xlabel('Numbers')\n",
        "plt.ylabel('Count')\n",
        "plt.grid(alpha=0.3)\n",
        "\n",
        "plt.tight_layout()\n",
        "plt.show()\n",
        "\n",
        "print(\"✅ Histograms before and after imputation have been displayed.\")\n",
        "print(f\"Mean value used for imputation: {column_mean:.4f}\")\n",
        "\n",
        "\n"
      ],
      "metadata": {
        "colab": {
          "base_uri": "https://localhost:8080/",
          "height": 482
        },
        "id": "hoX8yYFlcrF3",
        "outputId": "f85c8083-6e04-4878-aee4-4db10fe7f3bd"
      },
      "execution_count": 8,
      "outputs": [
        {
          "output_type": "display_data",
          "data": {
            "text/plain": [
              "<Figure size 1200x500 with 2 Axes>"
            ],
            "image/png": "[encoded data removed]"
          },
          "metadata": {}
        },
        {
          "output_type": "stream",
          "name": "stdout",
          "text": [
            "✅ Histograms before and after imputation have been displayed.\n",
            "Mean value used for imputation: -0.0219\n"
          ]
        }
      ]
    },
    {
      "cell_type": "code",
      "source": [
        "# Question 9: Implement Min-Max scaling on the following list of numbers [2, 5, 10, 15,\n",
        "# 20] using sklearn.preprocessing.MinMaxScaler. Print the scaled array.\n",
        "# (Include your Python code and output in the code box below.)\n",
        "\n",
        "import numpy as np\n",
        "from sklearn.preprocessing import MinMaxScaler\n",
        "\n",
        "# Data to be scaled\n",
        "data = np.array([2, 5, 10, 15, 20]).reshape(-1, 1)\n",
        "\n",
        "# Initialize MinMaxScaler (scales values between 0 and 1 by default)\n",
        "scaler = MinMaxScaler(feature_range=(0, 1))\n",
        "\n",
        "# Fit the scaler to the data and transform it\n",
        "scaled_data = scaler.fit_transform(data)\n",
        "\n",
        "# Display results\n",
        "print(\"Original Data:\", data.ravel())\n",
        "print(\"Scaled Data (in % form):\")\n",
        "for original, scaled in zip(data.ravel(), scaled_data.ravel()):\n",
        "    print(f\"{original:>2}  -->  {scaled:.2%}\")\n"
      ],
      "metadata": {
        "colab": {
          "base_uri": "https://localhost:8080/"
        },
        "id": "bP_vEDqadmhV",
        "outputId": "648ffbce-6314-4b2d-d06f-86250434b075"
      },
      "execution_count": 10,
      "outputs": [
        {
          "output_type": "stream",
          "name": "stdout",
          "text": [
            "Original Data: [ 2  5 10 15 20]\n",
            "Scaled Data (in % form):\n",
            " 2  -->  0.00%\n",
            " 5  -->  16.67%\n",
            "10  -->  44.44%\n",
            "15  -->  72.22%\n",
            "20  -->  100.00%\n"
          ]
        }
      ]
    },
    {
      "cell_type": "code",
      "source": [
        "# Question 10: You are working as a data scientist for a retail company. You receive a customer\n",
        "# transaction dataset that contains:\n",
        "# ● Missing ages,\n",
        "# ● Outliers in transaction amount,\n",
        "# ● A highly imbalanced target (fraud vs. non-fraud),\n",
        "# ● Categorical variables like payment method.\n",
        "# Explain the step-by-step data preparation plan you’d follow before training a machine learning\n",
        "# model. Include how you’d address missing data, outliers, imbalance, and encoding.\n",
        "# (Include your Python code and output in the code box below.)"
      ],
      "metadata": {
        "id": "fxCmKqzNf1s7"
      },
      "execution_count": 13,
      "outputs": []
    },
    {
      "cell_type": "markdown",
      "source": [
        "1. Handle missing data\n",
        "* If age is numeric and missing, impute:\n",
        "* Option A: Fill with mean/median (if distribution is normal/skewed).\n",
        "* Option B: Use predictive imputation (e.g., KNN imputer).\n",
        "* For simplicity, median is robust.\n",
        "2. Handle Outliers in Transaction Amount\n",
        "* Detect using IQR (Interquartile Range) or Z-score.\n",
        "* Options to handle:\n",
        "     1. Cap values to upper/lower bounds (winsorization).\n",
        "     2. Or log transform if distribution is skewed.\n",
        "\n",
        "3. Handle Imbalanced Target (Fraud vs Non-Fraud)\n",
        "* Class distribution will likely be 95%+ non-fraud vs. < 5% fraud.\n",
        "* Techniques:\n",
        "    1. Resampling: Oversample minority (SMOTE) or undersample majority.\n",
        "    2. Class weights: Give more penalty to misclassified frauds.\n",
        "\n",
        "4. Encode Categorical Variables (Payment Method, etc.)\n",
        "* If few unique categories: One-Hot Encoding.\n",
        "* If many categories: Target Encoding or Frequency Encoding.\n",
        "\n",
        "5. Final Step: Scaling (if needed)\n",
        "* For models like Logistic Regression, SVM, Neural Nets → apply StandardScaler / MinMaxScaler.\n",
        "* For Tree models (RF, XGBoost) scaling is not necessary.\n",
        "\n"
      ],
      "metadata": {
        "id": "LngUNfIFhC3g"
      }
    },
    {
      "cell_type": "code",
      "source": [
        "from sklearn.compose import ColumnTransformer\n",
        "from sklearn.preprocessing import OneHotEncoder, RobustScaler\n",
        "from sklearn.impute import SimpleImputer\n",
        "from sklearn.experimental import enable_iterative_imputer\n",
        "from sklearn.impute import IterativeImputer\n",
        "from sklearn.pipeline import Pipeline\n",
        "from imblearn.pipeline import Pipeline as ImbPipeline\n",
        "from xgboost import XGBClassifier\n",
        "\n",
        "# Feature groups\n",
        "numeric_cols = [\"amount_log\", \"tenure_days\", \"age\"]\n",
        "categorical_low_cols = [\"payment_method\", \"channel\"]\n",
        "categorical_high_cols = [\"merchant_id\"]  # reserved for later use if needed\n",
        "\n",
        "# Numeric preprocessing pipeline\n",
        "numeric_preprocessor = Pipeline([\n",
        "    (\"imputer\", IterativeImputer(sample_posterior=True, random_state=42)),\n",
        "    (\"scaler\", RobustScaler())\n",
        "])\n",
        "\n",
        "# Low-cardinality categorical preprocessing pipeline\n",
        "categorical_low_preprocessor = Pipeline([\n",
        "    (\"imputer\", SimpleImputer(strategy=\"most_frequent\")),\n",
        "    (\"encoder\", OneHotEncoder(handle_unknown=\"ignore\", min_frequency=0.01, sparse_output=False))\n",
        "])\n",
        "\n",
        "# Column transformer combining numeric + categorical preprocessing\n",
        "preprocessor = ColumnTransformer([\n",
        "    (\"numeric\", numeric_preprocessor, numeric_cols),\n",
        "    (\"categorical_low\", categorical_low_preprocessor, categorical_low_cols)\n",
        "], remainder=\"drop\")\n",
        "\n",
        "# XGBoost classifier\n",
        "xgb_model = XGBClassifier(\n",
        "    n_estimators=500,\n",
        "    max_depth=6,\n",
        "    learning_rate=0.05,\n",
        "    subsample=0.8,\n",
        "    colsample_bytree=0.8,\n",
        "    scale_pos_weight=\"auto\",   # auto balancing for imbalanced data\n",
        "    eval_metric=\"aucpr\",\n",
        "    tree_method=\"hist\",\n",
        "    random_state=42\n",
        ")\n",
        "\n",
        "# Final pipeline (imbalanced handling compatible)\n",
        "pipeline = ImbPipeline([\n",
        "    (\"preprocessing\", preprocessor),\n",
        "    (\"classifier\", xgb_model)\n",
        "])\n",
        "\n"
      ],
      "metadata": {
        "id": "P_GADyL0ijjv"
      },
      "execution_count": 12,
      "outputs": []
    }
  ]
}